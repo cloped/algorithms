{
 "cells": [
  {
   "cell_type": "markdown",
   "metadata": {},
   "source": [
    "# Implementação das ordenações"
   ]
  },
  {
   "cell_type": "code",
   "execution_count": null,
   "metadata": {},
   "outputs": [],
   "source": [
    "# Heapsort\n",
    "import numpy as np\n",
    "\n",
    "# Generating a random vector for ordering\n",
    "# vector = list(np.random.randint(1,100, 10))\n",
    "vector = [92, 8, 18, 5, 29, 9, 25, 80, 46, 58]\n",
    "\n",
    "def heapify(array, index, v_size):\n",
    "  largest = index\n",
    "  left = 2 * index + 1\n",
    "  right = 2 * index + 2\n",
    "\n",
    "  if left < v_size and array[left] > array[index]:\n",
    "    largest = left\n",
    "\n",
    "  if right < v_size and array[right] > array[largest]:\n",
    "    largest = right\n",
    "\n",
    "  if largest != index:\n",
    "    array[index], array[largest] = array[largest], array[index]\n",
    "    heapify(array, largest, v_size)\n",
    "\n",
    "def heapSort(arr):  \n",
    "  v_size = len(arr)\n",
    "\n",
    "  # Building max heap\n",
    "  for index in range(int(len(arr) / 2) - 1, -1, -1):\n",
    "    heapify(arr, index, v_size)\n",
    "\n",
    "  for index in range(v_size - 1, 0, -1):\n",
    "    arr[0], arr[index] = arr[index], arr[0]\n",
    "    # Pass index as size to change the ordered parts, this step is the \"exclusion from the tree\"\n",
    "    heapify(arr, 0, index)\n",
    "\n",
    "  return arr\n",
    "\n",
    "  # print(arr)\n",
    "\n",
    "print(vector)\n",
    "heapSort(vector)\n",
    "print(vector)\n"
   ]
  },
  {
   "cell_type": "code",
   "execution_count": null,
   "metadata": {},
   "outputs": [],
   "source": [
    "#Quicksort\n",
    "import numpy as np\n",
    "\n",
    "# Generating a random vector for ordering\n",
    "# vector = list(np.random.randint(1,100, 10))\n",
    "vector = [4, 3, 8, 1, 2, 9, 6, 0, 7, 5]\n",
    "\n",
    "def callQuick(arr, first, last):\n",
    "  if first >= last:\n",
    "    return\n",
    "  \n",
    "  pivot = arr[last]\n",
    "\n",
    "  markup = first - 1\n",
    "  actual = first\n",
    "\n",
    "  for index in range(first, last):\n",
    "    if arr[index] < pivot:\n",
    "      markup += 1\n",
    "      arr[markup], arr[actual] = arr[actual], arr[markup] \n",
    "\n",
    "    actual += 1\n",
    "  \n",
    "  markup += 1\n",
    "  arr[markup], arr[last] = arr[last], arr[markup] \n",
    "\n",
    "  callQuick(arr, first, markup - 1)\n",
    "  callQuick(arr, markup + 1, last)\n",
    "\n",
    "def quickSort(arr):\n",
    "  callQuick(arr, 0, len(arr) - 1)\n",
    "  return arr\n",
    "\n",
    "print(vector)\n",
    "quickSort(vector)\n",
    "print(vector)\n",
    "\n"
   ]
  },
  {
   "cell_type": "code",
   "execution_count": null,
   "metadata": {},
   "outputs": [],
   "source": [
    "#RadixSort\n",
    "import numpy as np\n",
    "\n",
    "# Generating a random vector for ordering\n",
    "# vector = list(np.random.randint(1,100, 10))\n",
    "vector = [4, 3, 8, 1, 2, 9, 6, 0, 7, 5]\n",
    "\n",
    "def countingSort(arr, unit_marker):\n",
    "  vector_size = len(arr)\n",
    "  output = [0] * vector_size\n",
    "  count = [0] * 10\n",
    "\n",
    "  for element in arr:\n",
    "    digit_count = (element // unit_marker) % 10\n",
    "    count[digit_count] += 1\n",
    "\n",
    "  pivot = 0\n",
    "\n",
    "  # Acumulando para sabe aonde eu vou colocar no meu array de output\n",
    "  for i in range(1,10): \n",
    "    count[i] += count[i-1]\n",
    "\n",
    "  i = vector_size - 1\n",
    "  while i >= 0: \n",
    "    element = arr[i]\n",
    "    digit_count = (element // unit_marker) % 10\n",
    "    output[count[digit_count] - 1] = arr[i]\n",
    "    count[digit_count] -= 1\n",
    "    i -= 1\n",
    "\n",
    "  return output\n",
    "\n",
    "def radixSort(arr):\n",
    "  higher = None\n",
    "\n",
    "  for element in arr:\n",
    "    if higher == None or element > higher:\n",
    "      higher = element\n",
    "  \n",
    "  unit_marker = 1\n",
    "  while higher // unit_marker > 0:\n",
    "    arr = countingSort(arr, unit_marker)\n",
    "    unit_marker *= 10\n",
    "  \n",
    "  return arr\n",
    "\n",
    "print(vector)\n",
    "vector = radixSort(vector)\n",
    "print(vector)\n"
   ]
  },
  {
   "cell_type": "markdown",
   "metadata": {},
   "source": [
    "# Implementação da análise das ordenações"
   ]
  },
  {
   "cell_type": "code",
   "execution_count": 3,
   "metadata": {},
   "outputs": [],
   "source": [
    "import matplotlib.pyplot as plt\n",
    "import numpy as np\n",
    "import random\n",
    "from tqdm import tqdm_notebook as tqdm\n",
    "import datetime as dt\n",
    "from datetime import timedelta"
   ]
  },
  {
   "cell_type": "code",
   "execution_count": 4,
   "metadata": {},
   "outputs": [
    {
     "name": "stdout",
     "output_type": "stream",
     "text": [
      "[92, 8, 18, 5, 29, 9, 25, 80, 46, 58]\n",
      "[5, 8, 9, 18, 25, 29, 46, 58, 80, 92]\n",
      "[4, 3, 8, 1, 2, 9, 6, 0, 7, 5]\n",
      "[0, 1, 2, 3, 4, 5, 6, 7, 8, 9]\n",
      "[4, 3, 8, 1, 2, 9, 6, 0, 7, 5]\n",
      "[0, 1, 2, 3, 4, 5, 6, 7, 8, 9]\n",
      "[92, 8, 18, 5, 29, 9, 25, 80, 46, 58]\n",
      "[5, 8, 9, 18, 25, 29, 46, 58, 80, 92]\n",
      "[4, 3, 8, 1, 2, 9, 6, 0, 7, 5]\n",
      "[0, 1, 2, 3, 4, 5, 6, 7, 8, 9]\n",
      "[4, 3, 8, 1, 2, 9, 6, 0, 7, 5]\n",
      "[0, 1, 2, 3, 4, 5, 6, 7, 8, 9]\n"
     ]
    }
   ],
   "source": [
    "import importlib\n",
    "\n",
    "import heapsort.heapsort\n",
    "import quicksort.quicksort\n",
    "import radixsort.radixsort\n",
    "\n",
    "importlib.reload(heapsort.heapsort)\n",
    "importlib.reload(quicksort.quicksort)\n",
    "importlib.reload(radixsort.radixsort)\n",
    "\n",
    "from heapsort.heapsort import heapSort\n",
    "from quicksort.quicksort import quickSort\n",
    "from radixsort.radixsort import radixSort"
   ]
  },
  {
   "cell_type": "markdown",
   "metadata": {},
   "source": [
    "## Letra a"
   ]
  },
  {
   "cell_type": "code",
   "execution_count": 5,
   "metadata": {},
   "outputs": [
    {
     "data": {
      "text/plain": [
       "1000000000"
      ]
     },
     "execution_count": 5,
     "metadata": {},
     "output_type": "execute_result"
    }
   ],
   "source": [
    "import sys\n",
    "sys.setrecursionlimit(10 ** 9)\n",
    "sys.getrecursionlimit()"
   ]
  },
  {
   "cell_type": "code",
   "execution_count": 6,
   "metadata": {},
   "outputs": [],
   "source": [
    "lowest_n = 100\n",
    "# highest_n = 10000\n",
    "# highest_n = 10 ** 8\n",
    "highest_n = 10 ** 4\n",
    "pivot = lowest_n\n",
    "\n",
    "\n",
    "heap_entrysize_X = []\n",
    "heap_time_Y = []\n",
    "\n",
    "quick_entrysize_X = []\n",
    "quick_time_Y = []\n",
    "\n",
    "radix_entrysize_X = []\n",
    "radix_time_Y = []\n",
    "\n",
    "def aux(data, method, axis, ys):\n",
    "#     print(data)\n",
    "    aux_data = [x for x in data]\n",
    "\n",
    "    start_time = dt.datetime.now()\n",
    "    result = method(aux_data)\n",
    "    end_time = dt.datetime.now()\n",
    "    \n",
    "    diff = end_time - start_time\n",
    "    axis.append(pivot)\n",
    "    ys.append(diff.total_seconds())\n",
    "#     print('method', method, result)\n",
    "\n",
    "while pivot <= highest_n:\n",
    "    data = np.zeros(pivot)\n",
    "    data = [ 100 for x in data ]\n",
    "    offset = len(data) // 10\n",
    "\n",
    "    for i in range(0, len(data)):\n",
    "        if i % offset == 0:\n",
    "            data[i] = random.randint(0, 10000)\n",
    "#     data = [  for x in data if x % offset == 0 ]\n",
    "    np.random.shuffle(data)\n",
    "    \n",
    "    aux(data, heapSort, heap_entrysize_X, heap_time_Y)\n",
    "    aux(data, radixSort, radix_entrysize_X, radix_time_Y)\n",
    "    aux(data, quickSort, quick_entrysize_X, quick_time_Y)\n",
    "    \n",
    "#     print(data)\n",
    "    pivot *= 10\n",
    "#     break"
   ]
  },
  {
   "cell_type": "code",
   "execution_count": 7,
   "metadata": {},
   "outputs": [
    {
     "data": {
      "text/plain": [
       "<matplotlib.legend.Legend at 0x7fae8dfb6780>"
      ]
     },
     "execution_count": 7,
     "metadata": {},
     "output_type": "execute_result"
    },
    {
     "data": {
      "image/png": "[encoded data removed]",
      "text/plain": [
       "<Figure size 1080x216 with 1 Axes>"
      ]
     },
     "metadata": {
      "needs_background": "light"
     },
     "output_type": "display_data"
    }
   ],
   "source": [
    "plt.figure(figsize=(15,3))\n",
    "plt.plot(heap_entrysize_X, heap_time_Y, label='HeapSort')\n",
    "plt.scatter(heap_entrysize_X, heap_time_Y, label='HeapSort tests')\n",
    "plt.plot(radix_entrysize_X, radix_time_Y, label='RadixSort')\n",
    "plt.scatter(radix_entrysize_X, radix_time_Y, label='RadixSort tests')\n",
    "plt.plot(quick_entrysize_X, quick_time_Y, label='QuickSort')\n",
    "plt.scatter(quick_entrysize_X, quick_time_Y, label='QuickSort tests')\n",
    "plt.ylabel('Time (seconds)')\n",
    "plt.xlabel('Entry (quantity)')\n",
    "plt.legend()"
   ]
  },
  {
   "cell_type": "markdown",
   "metadata": {},
   "source": [
    "## Letra b"
   ]
  },
  {
   "cell_type": "code",
   "execution_count": 8,
   "metadata": {
    "scrolled": true
   },
   "outputs": [],
   "source": [
    "lowest_n = 10\n",
    "# highest_n = 10000\n",
    "# highest_n = 10 ** 8\n",
    "highest_n = 10 ** 6\n",
    "pivot = lowest_n\n",
    "\n",
    "\n",
    "heap_entrysize_X = []\n",
    "heap_time_Y = []\n",
    "\n",
    "quick_entrysize_X = []\n",
    "quick_time_Y = []\n",
    "\n",
    "radix_entrysize_X = []\n",
    "radix_time_Y = []\n",
    "\n",
    "def aux(data, method, axis, ys):\n",
    "#     print(data)\n",
    "    aux_data = [x for x in data]\n",
    "\n",
    "    start_time = dt.datetime.now()\n",
    "    result = method(aux_data)\n",
    "    end_time = dt.datetime.now()\n",
    "    \n",
    "    diff = end_time - start_time\n",
    "    axis.append(pivot)\n",
    "    ys.append(diff.total_seconds())\n",
    "#     print('method', method, result)\n",
    "\n",
    "while pivot <= highest_n:\n",
    "    data = np.arange(pivot)\n",
    "    np.random.shuffle(data)\n",
    "    \n",
    "    aux(data, heapSort, heap_entrysize_X, heap_time_Y)\n",
    "    aux(data, radixSort, radix_entrysize_X, radix_time_Y)\n",
    "    aux(data, quickSort, quick_entrysize_X, quick_time_Y)\n",
    "    \n",
    "    pivot *= 10\n",
    "#     break"
   ]
  },
  {
   "cell_type": "code",
   "execution_count": 9,
   "metadata": {},
   "outputs": [
    {
     "data": {
      "text/plain": [
       "<matplotlib.legend.Legend at 0x7fae8ded07b8>"
      ]
     },
     "execution_count": 9,
     "metadata": {},
     "output_type": "execute_result"
    },
    {
     "data": {
      "image/png": "[encoded data removed]",
      "text/plain": [
       "<Figure size 1080x216 with 1 Axes>"
      ]
     },
     "metadata": {
      "needs_background": "light"
     },
     "output_type": "display_data"
    }
   ],
   "source": [
    "plt.figure(figsize=(15,3))\n",
    "plt.plot(heap_entrysize_X, heap_time_Y, label='HeapSort')\n",
    "plt.scatter(heap_entrysize_X, heap_time_Y, label='HeapSort tests')\n",
    "plt.plot(radix_entrysize_X, radix_time_Y, label='RadixSort')\n",
    "plt.scatter(radix_entrysize_X, radix_time_Y, label='RadixSort tests')\n",
    "plt.plot(quick_entrysize_X, quick_time_Y, label='QuickSort')\n",
    "plt.scatter(quick_entrysize_X, quick_time_Y, label='QuickSort tests')\n",
    "plt.ylabel('Time (seconds)')\n",
    "plt.xlabel('Entry (quantity)')\n",
    "plt.legend()"
   ]
  },
  {
   "cell_type": "markdown",
   "metadata": {},
   "source": [
    "# Conclusões\n",
    "___"
   ]
  },
  {
   "attachments": {},
   "cell_type": "markdown",
   "metadata": {},
   "source": [
    "Letra a)\n",
    "\n",
    "Como podemos ver no primeiro gráfico o QuickSort cai no seu pior caso O(n^2), com isso acaba muito mais lento do que o HeapSort que desempenha em O(n logn). O radix se sai bem pois executa em O(nk) sendo K o tamanho do maior número, se os números do vetor fossem maiores ele aumentaria bastante o seu tempo de duração se tornando mais lento que o Heapsort que é mais estável.\n",
    "\n",
    "Para esse problema o melhor algoritmo é o HeapSort dado que é mais estável em diversas condições com um crescimento aceitável. Caso os números fossem controlados e pequenos o Radix é uma opção melhor, porém somente nesse caso descrito.\n",
    "\n",
    "Letra b)\n",
    "\n",
    "Nesse segundo caso vemos o HeapSort se saindo pior do que os outros porém ele se mantém em O(n logn) o que é um tempo aceitável. O Radix se sai melhor devido o tamanho dos números (foi feito um range de 0 ao tamanho da entrada e após isso feito um shuffle), porém similar a letra A, se os números fossem maiores ele seria mais lento.\n",
    "\n",
    "Para esse problema o algoritmo mais aconselhado é o QuickSort dado que ele se sai melhor que os outros dois algoritmos. Mesmo o heapsort tendo a mesma complexidade as constantes do quicksort o tornam melhor e uma escolha mais apropriada para o caso. O radix é uma opção melhor se somente se os números forem pequenos, similar a letra a."
   ]
  },
  {
   "cell_type": "code",
   "execution_count": null,
   "metadata": {},
   "outputs": [],
   "source": []
  }
 ],
 "metadata": {
  "kernelspec": {
   "display_name": "Python 3",
   "language": "python",
   "name": "python3"
  },
  "language_info": {
   "codemirror_mode": {
    "name": "ipython",
    "version": 3
   },
   "file_extension": ".py",
   "mimetype": "text/x-python",
   "name": "python",
   "nbconvert_exporter": "python",
   "pygments_lexer": "ipython3",
   "version": "3.7.3"
  }
 },
 "nbformat": 4,
 "nbformat_minor": 2
}
